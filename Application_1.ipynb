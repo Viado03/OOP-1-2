{
  "nbformat": 4,
  "nbformat_minor": 0,
  "metadata": {
    "colab": {
      "name": "Application 1.ipynb",
      "provenance": [],
      "collapsed_sections": [],
      "authorship_tag": "ABX9TyNhxB88M5UeU9lJ6da7Ny8M",
      "include_colab_link": true
    },
    "kernelspec": {
      "name": "python3",
      "display_name": "Python 3"
    },
    "language_info": {
      "name": "python"
    }
  },
  "cells": [
    {
      "cell_type": "markdown",
      "metadata": {
        "id": "view-in-github",
        "colab_type": "text"
      },
      "source": [
        "<a href=\"https://colab.research.google.com/github/Viado03/OOP-1-2/blob/main/Application_1.ipynb\" target=\"_parent\"><img src=\"https://colab.research.google.com/assets/colab-badge.svg\" alt=\"Open In Colab\"/></a>"
      ]
    },
    {
      "cell_type": "code",
      "execution_count": 1,
      "metadata": {
        "colab": {
          "base_uri": "https://localhost:8080/"
        },
        "id": "DumYU_a3Ti5O",
        "outputId": "d5897085-d14c-47c6-a80d-88472e8b7c1b"
      },
      "outputs": [
        {
          "output_type": "stream",
          "name": "stdout",
          "text": [
            "student1 student2 student3\n"
          ]
        }
      ],
      "source": [
        "class Person:\n",
        "  def __init__(self,student1,student2,student3):\n",
        "    self.student1 = student1\n",
        "    self.student2 = student2\n",
        "    self.student3 = student3\n",
        "\n",
        "  def printname(self):\n",
        "    print(self.student1,self.student2,self.student3)\n",
        "\n",
        "person = Person(\"student1\",\"student2\",\"student3\")\n",
        "person.printname()\n"
      ]
    },
    {
      "cell_type": "code",
      "source": [
        "class Person:\n",
        "  def __init__(self,prelim,mid,fin):\n",
        "    self.prelim = prelim\n",
        "    self.mid = mid\n",
        "    self.fin = fin \n",
        "\n",
        "  def grades_student(self):\n",
        "    return True\n",
        "\n",
        "class std1(Person):\n",
        "  def __init__(self,prelim,mid,fin):\n",
        "      super().__init__(prelim,mid,fin)\n",
        "\n",
        "\n",
        "class std2(Person):\n",
        "   def __init__(self,prelim,mid,fin):\n",
        "       super().__init__(prelim,mid,fin)\n",
        "\n",
        "class std3(Person):\n",
        "   def __init__(self,prelim,mid,fin):\n",
        "      super().__init__(prelim,mid,fin)\n",
        "\n",
        "arvin = std1('94','96','97')\n",
        "print(arvin.prelim, arvin.mid,arvin.fin)\n",
        "\n",
        "\n"
      ],
      "metadata": {
        "colab": {
          "base_uri": "https://localhost:8080/"
        },
        "id": "KRjmM1YgKJoc",
        "outputId": "a347f9f3-562d-4cc4-b0d1-d6250b5d5345"
      },
      "execution_count": 1,
      "outputs": [
        {
          "output_type": "stream",
          "name": "stdout",
          "text": [
            "94 96 97\n"
          ]
        }
      ]
    },
    {
      "cell_type": "code",
      "source": [
        "class Persons:\n",
        "  def __init__(self,std1,prelim,mid,fin):\n",
        "    self.std1 = std1\n",
        "    self.prelim = prelim\n",
        "    self.mid = mid\n",
        "    self.fin = fin \n",
        "\n",
        "  def grade(self):\n",
        "    self.grade = (self.prelim + self.mid + self.fin) // 3\n",
        "\n",
        "  def show(self):\n",
        "    self.grade()\n",
        "    print(\"Name \" , self.std1)\n",
        "    print(\"prelim \" , self.prelim)\n",
        "    print(\"mid \" , self.mid)\n",
        "    print(\"fin \" , self.fin)\n",
        "    \n",
        "    if self.grade >= 75:\n",
        "      self.status = \"Passed\"\n",
        "\n",
        "    else:\n",
        "      self.status = \"Failed\"\n",
        "    print(\"The final grade is: {} ({})\".format(round(self.grade,0), self.status))\n",
        "\n",
        "print()\n",
        "print(\"Student Average in all Major Exams\")\n",
        "print()\n",
        "\n",
        "Name = str(input(\"Enter Name: \"))\n",
        "prelim = float(input(\"Enter prelim: \"))\n",
        "mid = float(input(\"Enter mid: \"))\n",
        "fin = float(input(\"Enter fin: \"))\n",
        "print()\n",
        "\n",
        "std = Persons(Name, prelim, mid, fin)\n",
        "std.show()\n"
      ],
      "metadata": {
        "colab": {
          "base_uri": "https://localhost:8080/"
        },
        "id": "T06l98vMT0Ga",
        "outputId": "c6a1f03c-818f-4aab-f3f6-512d6ec1f212"
      },
      "execution_count": 18,
      "outputs": [
        {
          "output_type": "stream",
          "name": "stdout",
          "text": [
            "\n",
            "Student Average in all Major Exams\n",
            "\n",
            "Enter Name: arvin\n",
            "Enter prelim: 94\n",
            "Enter mid: 93\n",
            "Enter fin: 92\n",
            "\n",
            "Name  arvin\n",
            "prelim  94.0\n",
            "mid  93.0\n",
            "fin  92.0\n",
            "The final grade is: 93.0 (Passed)\n"
          ]
        }
      ]
    }
  ]
}