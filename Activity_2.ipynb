{
  "nbformat": 4,
  "nbformat_minor": 0,
  "metadata": {
    "colab": {
      "name": "Activity 2.ipynb",
      "provenance": [],
      "authorship_tag": "ABX9TyPMxPH1Zt8w57t+qaL+jFn2",
      "include_colab_link": true
    },
    "kernelspec": {
      "name": "python3",
      "display_name": "Python 3"
    },
    "language_info": {
      "name": "python"
    }
  },
  "cells": [
    {
      "cell_type": "markdown",
      "metadata": {
        "id": "view-in-github",
        "colab_type": "text"
      },
      "source": [
        "<a href=\"https://colab.research.google.com/github/Viado03/OOP-1-2/blob/main/Activity_2.ipynb\" target=\"_parent\"><img src=\"https://colab.research.google.com/assets/colab-badge.svg\" alt=\"Open In Colab\"/></a>"
      ]
    },
    {
      "cell_type": "markdown",
      "source": [
        "#Write a python program that converts the temperature Celcius to Fahrenheit. Create a class name Temperature. \n",
        "#Create Celcius as attribute name , Temp() as method, and temp as object name."
      ],
      "metadata": {
        "id": "9qlkQd2AXCse"
      }
    },
    {
      "cell_type": "code",
      "execution_count": 27,
      "metadata": {
        "colab": {
          "base_uri": "https://localhost:8080/"
        },
        "id": "AtmWsjQKW4dC",
        "outputId": "c16d1b35-1062-49d4-a862-b680bf991d0d"
      },
      "outputs": [
        {
          "output_type": "stream",
          "name": "stdout",
          "text": [
            "Input temperature in Celcius: 2\n",
            "The temperature is 34.6\n"
          ]
        }
      ],
      "source": [
        "class Temperature:\n",
        "  def __init__(self,Celcius):\n",
        "    self.Celcius = Celcius\n",
        "\n",
        "  def Temp(self):\n",
        "    return  ((1.3 * self.Celcius)+ 32)\n",
        "\n",
        "input_temp = float(input(\"Input temperature in Celcius: \"))\n",
        "temp1 = Temperature(input_temp)\n",
        "print(\"The temperature is\",round(temp1.Temp(),3))\n",
        "\n",
        "    \n",
        "\n",
        "\n",
        "    "
      ]
    },
    {
      "cell_type": "markdown",
      "source": [
        "#1.\tDefine an Area() method of the class that calculates the circle’s area."
      ],
      "metadata": {
        "id": "k4D5n4Apyuzy"
      }
    },
    {
      "cell_type": "code",
      "source": [
        "class Circle:                   #Circle aa the class name\n",
        "  def __init__(self, radius):   #Radius as the Attribute\n",
        "    self.radius = radius\n",
        "\n",
        "  def Area(self):         #Area() as the Method\n",
        "    return (3.14 *(self.radius * self.radius))\n",
        "\n",
        "input_area = float(input(\"Input radius: \"))\n",
        "radius1 = Circle(input_area)  #radius1 as the object name\n",
        "\n",
        "print(\"The area of a cirle is\",round(radius1.Area(),3)) "
      ],
      "metadata": {
        "colab": {
          "base_uri": "https://localhost:8080/"
        },
        "id": "edVTZzAyyvbb",
        "outputId": "25adb691-118e-4412-883b-c9595f6429a5"
      },
      "execution_count": 90,
      "outputs": [
        {
          "output_type": "stream",
          "name": "stdout",
          "text": [
            "Input radius: 24\n",
            "The area of a cirle is 1808.64\n"
          ]
        }
      ]
    },
    {
      "cell_type": "markdown",
      "source": [
        "#2.\tDefine a Perimeter() method of the class which allows you to calculate the perimeter of the circle."
      ],
      "metadata": {
        "id": "Ji55y3HXQ8_-"
      }
    },
    {
      "cell_type": "code",
      "source": [
        "class circle:\n",
        "  def __init__(self, radius):\n",
        "    self.radius = radius\n",
        "\n",
        "  def Perimeter(self):\n",
        "    return (2 * 3.14 * self.radius)\n",
        "\n",
        "input_perimeter = float(input(\"Input radius: \"))\n",
        "radius1 = circle(input_perimeter)\n",
        "print(\"The perimeter of circle is\",round(radius1.Perimeter(),2))"
      ],
      "metadata": {
        "colab": {
          "base_uri": "https://localhost:8080/"
        },
        "id": "H21mt7eaeHS2",
        "outputId": "247b8fb9-017c-4cc3-a990-e7fa68188458"
      },
      "execution_count": 93,
      "outputs": [
        {
          "output_type": "stream",
          "name": "stdout",
          "text": [
            "Input radius: 99\n",
            "The perimeter of circle is 621.72\n"
          ]
        }
      ]
    }
  ]
}