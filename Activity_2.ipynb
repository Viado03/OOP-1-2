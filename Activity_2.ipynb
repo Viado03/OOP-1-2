{
  "nbformat": 4,
  "nbformat_minor": 0,
  "metadata": {
    "colab": {
      "name": "Activity 2.ipynb",
      "provenance": [],
      "authorship_tag": "ABX9TyNDQm4rDM3aMmHJcKrqGgRq",
      "include_colab_link": true
    },
    "kernelspec": {
      "name": "python3",
      "display_name": "Python 3"
    },
    "language_info": {
      "name": "python"
    }
  },
  "cells": [
    {
      "cell_type": "markdown",
      "metadata": {
        "id": "view-in-github",
        "colab_type": "text"
      },
      "source": [
        "<a href=\"https://colab.research.google.com/github/Viado03/OOP-1-2/blob/main/Activity_2.ipynb\" target=\"_parent\"><img src=\"https://colab.research.google.com/assets/colab-badge.svg\" alt=\"Open In Colab\"/></a>"
      ]
    },
    {
      "cell_type": "markdown",
      "source": [
        "#Write a python program that converts the temperature Celcius to Fahrenheit. Create a class name Temperature. \n",
        "#Create Celcius as attribute name , Temp() as method, and temp as object name."
      ],
      "metadata": {
        "id": "9qlkQd2AXCse"
      }
    },
    {
      "cell_type": "code",
      "execution_count": 14,
      "metadata": {
        "colab": {
          "base_uri": "https://localhost:8080/"
        },
        "id": "AtmWsjQKW4dC",
        "outputId": "52b7879c-7d79-4719-f68a-b9f986de9c4e"
      },
      "outputs": [
        {
          "output_type": "stream",
          "name": "stdout",
          "text": [
            "Input temperature in Celcius: 6\n",
            "42.8\n"
          ]
        }
      ],
      "source": [
        "class Temperature:\n",
        "  def __init__(self,Celcius):\n",
        "    self.Celcius = Celcius\n",
        "\n",
        "  def Temp(self):\n",
        "    return  ((1.8 * self.Celcius)+ 32)\n",
        "\n",
        "input_temp = float(input(\"Input temperature in Celcius: \"))\n",
        "temp1 = Temperature(input_temp)\n",
        "print(round(temp1.Temp(),3))\n",
        "\n",
        "    \n",
        "\n",
        "\n",
        "    "
      ]
    }
  ]
}