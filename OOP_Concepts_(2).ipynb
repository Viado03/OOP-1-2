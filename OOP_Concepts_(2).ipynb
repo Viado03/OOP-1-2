{
  "nbformat": 4,
  "nbformat_minor": 0,
  "metadata": {
    "colab": {
      "name": "OOP Concepts (2).ipynb",
      "provenance": [],
      "collapsed_sections": [],
      "authorship_tag": "ABX9TyO71wJFgvmHuIsK9TGeyTb/",
      "include_colab_link": true
    },
    "kernelspec": {
      "name": "python3",
      "display_name": "Python 3"
    },
    "language_info": {
      "name": "python"
    }
  },
  "cells": [
    {
      "cell_type": "markdown",
      "metadata": {
        "id": "view-in-github",
        "colab_type": "text"
      },
      "source": [
        "<a href=\"https://colab.research.google.com/github/Viado03/OOP-1-2/blob/main/OOP_Concepts_(2).ipynb\" target=\"_parent\"><img src=\"https://colab.research.google.com/assets/colab-badge.svg\" alt=\"Open In Colab\"/></a>"
      ]
    },
    {
      "cell_type": "markdown",
      "source": [
        "##Classes with Multiple Objects"
      ],
      "metadata": {
        "id": "f-ye8KV0VIk2"
      }
    },
    {
      "cell_type": "code",
      "execution_count": null,
      "metadata": {
        "colab": {
          "base_uri": "https://localhost:8080/"
        },
        "id": "LY9m__e-S9f8",
        "outputId": "ca54d80f-ad0a-474c-a4a5-a13610d3b0c0"
      },
      "outputs": [
        {
          "output_type": "stream",
          "name": "stdout",
          "text": [
            "Griffon Vulture flies above the sky\n",
            "Commnon Crane flies above the sky\n",
            "Emu is the national bird of the Philippines\n"
          ]
        }
      ],
      "source": [
        "class Birds:\n",
        "  def __init__(self,bird_name):\n",
        "    self.bird_name = bird_name\n",
        "\n",
        "  def flying_birds(self):\n",
        "    print(f\"{self.bird_name} flies above the sky\")\n",
        "\n",
        "  def non_flying_birds(self):\n",
        "    print(f\"{self.bird_name} is the national bird of the Philippines\")\n",
        "\n",
        "vulture = Birds(\"Griffon Vulture\")\n",
        "crane = Birds(\"Commnon Crane\")\n",
        "emu = Birds(\"Emu\")\n",
        "\n",
        "vulture.flying_birds()\n",
        "crane.flying_birds()\n",
        "emu.non_flying_birds()"
      ]
    },
    {
      "cell_type": "markdown",
      "source": [
        "Encaptulation using mangli with double underscores"
      ],
      "metadata": {
        "id": "BKEsPPGBXRzk"
      }
    },
    {
      "cell_type": "code",
      "source": [
        "class foo:\n",
        "  def __init__(self,a,b):\n",
        "    self.__a = a\n",
        "    self.__b = b\n",
        "\n",
        "  def add(self):\n",
        "    return self.__a + self.__b   #remove the double underscore if you want to changed the value of the current value\n",
        "\n",
        "number = foo(3,4)\n",
        "number.add()\n",
        "\n",
        "\n",
        "number.a = 9 # 7 + 4 = 11  # this is use to not change the official value of a and b\n",
        "\n",
        "number.add()"
      ],
      "metadata": {
        "colab": {
          "base_uri": "https://localhost:8080/"
        },
        "id": "rQVDyk2gXVDs",
        "outputId": "0b120bae-abe1-4d80-fb0c-d0013a57a1f2"
      },
      "execution_count": 1,
      "outputs": [
        {
          "output_type": "execute_result",
          "data": {
            "text/plain": [
              "7"
            ]
          },
          "metadata": {},
          "execution_count": 1
        }
      ]
    },
    {
      "cell_type": "markdown",
      "source": [
        "Encaptulation with Private Attribiutes"
      ],
      "metadata": {
        "id": "OuCedsSCZiED"
      }
    },
    {
      "cell_type": "code",
      "source": [
        "class Counter:\n",
        "  def __init__(self):\n",
        "    self.current = 0\n",
        "\n",
        "  def increment(self):\n",
        "    self.current += 1\n",
        "\n",
        "  def value(self):\n",
        "    return self.current\n",
        "  def reset(self):\n",
        "    self.current = 0\n",
        "\n",
        "num = Counter()\n",
        "\n",
        "num.increment()       #counter = counter + 1 \n",
        "num.increment()\n",
        "num.increment()\n",
        "\n",
        "num.counter = 1\n",
        "\n",
        "num.value()\n"
      ],
      "metadata": {
        "colab": {
          "base_uri": "https://localhost:8080/"
        },
        "id": "sQwNm3w4Zmwi",
        "outputId": "afe11965-caf8-4769-a2f7-d77a12e2d9ff"
      },
      "execution_count": null,
      "outputs": [
        {
          "output_type": "execute_result",
          "data": {
            "text/plain": [
              "3"
            ]
          },
          "metadata": {},
          "execution_count": 31
        }
      ]
    },
    {
      "cell_type": "markdown",
      "source": [
        "Inheritance"
      ],
      "metadata": {
        "id": "8QgC3_lbdM2w"
      }
    },
    {
      "cell_type": "code",
      "source": [
        "class Person:\n",
        "  def __init__(self,firstname,surname):\n",
        "    self.firstname = firstname\n",
        "    self.surname = surname\n",
        "\n",
        "  def printname(self):\n",
        "    print(self.firstname, self.surname)\n",
        "\n",
        "person = Person(\"Ana\", \"Santos\")\n",
        "person.printname()\n",
        "\n",
        "class Teacher(Person):\n",
        "  pass\n",
        "\n",
        "person2 = Teacher(\"Maria\", \"Sayo\")\n",
        "person2.printname()\n",
        "\n",
        "class Student(Person):\n",
        "  pass\n",
        "\n",
        "person3 = Student(\"Jhon Arvin\", \"Viado\")\n",
        "person3.printname()"
      ],
      "metadata": {
        "colab": {
          "base_uri": "https://localhost:8080/"
        },
        "id": "d-RfAp5ZdOSI",
        "outputId": "04967c07-dd9d-4ad1-d0d4-35183a810ff8"
      },
      "execution_count": 3,
      "outputs": [
        {
          "output_type": "stream",
          "name": "stdout",
          "text": [
            "Ana Santos\n",
            "Maria Sayo\n",
            "Jhon Arvin Viado\n"
          ]
        }
      ]
    },
    {
      "cell_type": "markdown",
      "source": [
        "#Polymorphism"
      ],
      "metadata": {
        "id": "V3Sbs2UTgEVe"
      }
    },
    {
      "cell_type": "code",
      "source": [
        "class RegularPolygon:\n",
        "    def __init__(self,side):\n",
        "        self.side = side\n",
        "class Square(RegularPolygon):\n",
        "    def area(self):\n",
        "        return self.side * self.side\n",
        "class EquilateralTriangle(RegularPolygon):\n",
        "    def area(self):\n",
        "        return self.side * self.side * 0.433\n",
        "\n",
        "object = Square(4)\n",
        "print(object.area())\n",
        "\n",
        "object2 = EquilateralTriangle(3)\n",
        "print(object2.area())\n",
        "\n"
      ],
      "metadata": {
        "colab": {
          "base_uri": "https://localhost:8080/"
        },
        "id": "BJHd2c9mgHje",
        "outputId": "763aa572-f3cb-46a0-e3df-b9b3da907651"
      },
      "execution_count": 4,
      "outputs": [
        {
          "output_type": "stream",
          "name": "stdout",
          "text": [
            "16\n",
            "3.897\n"
          ]
        }
      ]
    },
    {
      "cell_type": "markdown",
      "source": [
        "APPLICATION 1\n",
        "1. Create a python program that displays the name of three students(Student 1, Student 2, Student 3) and theirterm grades\n",
        "2. Create a class name Person and Attributes - std1, std2, std3, pre, mid, fin\n",
        "3. Compute the average of each term grade using Grade() method\n",
        "4. Information about student's grades must be hidden from others"
      ],
      "metadata": {
        "id": "0Iu8NrA6PpDq"
      }
    },
    {
      "cell_type": "code",
      "source": [
        "class Person:\n",
        "  def __init__(self,Fullname,prelim,mid,fin):\n",
        "    self.Fullname = Fullname\n",
        "    self.prelim = prelim\n",
        "    self.mid = mid\n",
        "    self.fin = fin \n",
        "\n",
        "  def ave(self):\n",
        "    self.grade = (self.prelim + self.mid + self.fin) // 3\n",
        "\n",
        "  def show(self):\n",
        "    self.ave()\n",
        "    print(\" Full name \" , self.Fullname)\n",
        "    print(\" preliminary's grade \" , self.prelim)\n",
        "    print(\" midterm's grade \" , self.mid)\n",
        "    print(\" final's grade \" , self.fin)\n",
        "    \n",
        "    if self.grade >= 75 and self.grade <= 100 :\n",
        "      self.status = \"Passed\"\n",
        "\n",
        "    else:\n",
        "      self.status = \"Failed\"\n",
        "    print(\"Your Final Average is: {} ({})\".format(round(self.grade,0), self.status))\n",
        "\n",
        "print()\n",
        "print(\"Student 1 Grade and Average: \")\n",
        "print()\n",
        "\n",
        "Fullname = str(input(\"Enter Full name: \"))\n",
        "print(\"Hello\", Fullname + \"!\")\n",
        "prelim = float(input(\"What is your grade in prelim?: \"))\n",
        "mid = float(input(\"What is your grade in mid?: \"))\n",
        "fin = float(input(\"What is your grade in fin?: \"))\n",
        "print()\n",
        "\n",
        "std1 = Person(Fullname, prelim, mid, fin)\n",
        "std1.show()\n",
        "print(\"\\n\")\n",
        "\n",
        "print()\n",
        "print(\"Student 2 Grade and Average: \")\n",
        "print()\n",
        "\n",
        "Fullname = str(input(\"Enter Full name: \"))\n",
        "print(\"Hello\", Fullname + \"!\")\n",
        "prelim = float(input(\"What is your grade in prelim?: \"))\n",
        "mid = float(input(\"What is your grade in mid?: \"))\n",
        "fin = float(input(\"What is your grade in fin?: \"))\n",
        "print()\n",
        "\n",
        "std2 = Person(Fullname, prelim, mid, fin)\n",
        "std2.show()\n",
        "print(\"\\n\")\n",
        "\n",
        "print()\n",
        "print(\"Student 3 Grade and Average: \")\n",
        "print()\n",
        "\n",
        "Fullname = str(input(\"Enter Full name: \")) #entering a name\n",
        "print(\"Hello\", Fullname + \"!\")\n",
        "prelim = float(input(\"What is your grade in prelim?: \"))\n",
        "mid = float(input(\"What is your grade in mid?: \"))\n",
        "fin = float(input(\"What is your grade in fin?: \"))\n",
        "print()\n",
        "\n",
        "std3 = Person(Fullname, prelim, mid, fin)\n",
        "std3.show()\n",
        "print(\"\\n\")\n",
        "\n",
        "\n"
      ],
      "metadata": {
        "colab": {
          "base_uri": "https://localhost:8080/"
        },
        "id": "J_z9JGFzIggM",
        "outputId": "8d08ec70-539c-4729-92d7-f330397bbef9"
      },
      "execution_count": 2,
      "outputs": [
        {
          "output_type": "stream",
          "name": "stdout",
          "text": [
            "\n",
            "Student 1 Grade and Average: \n",
            "\n",
            "Enter Full name: Viado, Jhon Arvin T\n",
            "Hello Viado, Jhon Arvin T!\n",
            "What is your grade in prelim?: 97\n",
            "What is your grade in mid?: 98\n",
            "What is your grade in fin?: 96\n",
            "\n",
            " Full name  Viado, Jhon Arvin T\n",
            " preliminary's grade  97.0\n",
            " midterm's grade  98.0\n",
            " final's grade  96.0\n",
            "Your Final Average is: 97.0 (Passed)\n",
            "\n",
            "\n",
            "\n",
            "Student 2 Grade and Average: \n",
            "\n",
            "Enter Full name: Genrell Sy\n",
            "Hello Genrell Sy!\n",
            "What is your grade in prelim?: 98\n",
            "What is your grade in mid?: 99\n",
            "What is your grade in fin?: 99\n",
            "\n",
            " Full name  Genrell Sy\n",
            " preliminary's grade  98.0\n",
            " midterm's grade  99.0\n",
            " final's grade  99.0\n",
            "Your Final Average is: 98.0 (Passed)\n",
            "\n",
            "\n",
            "\n",
            "Student 3 Grade and Average: \n",
            "\n",
            "Enter Full name: Pablo D\n",
            "Hello Pablo D!\n",
            "What is your grade in prelim?: 69\n",
            "What is your grade in mid?: 68\n",
            "What is your grade in fin?: 70\n",
            "\n",
            " Full name  Pablo D\n",
            " preliminary's grade  69.0\n",
            " midterm's grade  68.0\n",
            " final's grade  70.0\n",
            "Your Final Average is: 69.0 (Failed)\n",
            "\n",
            "\n"
          ]
        }
      ]
    },
    {
      "cell_type": "markdown",
      "source": [
        "###Other answer in Application 1"
      ],
      "metadata": {
        "id": "4q9G2SOgQ2_5"
      }
    },
    {
      "cell_type": "code",
      "source": [
        "class Person:\n",
        "  def __init__(self,Fullname,prelim,mid,fin):\n",
        "    self.Fullname = Fullname\n",
        "    self.prelim = prelim\n",
        "    self.mid = mid\n",
        "    self.fin = fin \n",
        "\n",
        "  def ave(self):\n",
        "    self.grade = (self.prelim + self.mid + self.fin) // 3\n",
        "\n",
        "  def show(self):\n",
        "    self.ave()\n",
        "    print(\" Full name \" , self.Fullname)\n",
        "    print(\" prelim score \" , self.prelim)\n",
        "    print(\" midterm score \" , self.mid)\n",
        "    print(\" final score \" , self.fin)\n",
        "    \n",
        "    if self.grade >= 75 and self.grade <= 100 :\n",
        "      self.status = \"Passed\"\n",
        "\n",
        "    else:\n",
        "      self.status = \"Failed\"\n",
        "    print(\"Your Final grade is: {} ({})\".format(round(self.grade,0), self.status))\n",
        "\n",
        "print()\n",
        "print(\"Student 1 Grade and Average: \")\n",
        "print()\n",
        "\n",
        "Fullname = \"Viado Jhon Arvin T.\"  #With Fix name\n",
        "prelim = float(input(\" prelim: \"))\n",
        "mid = float(input(\" mid: \"))\n",
        "fin = float(input(\" fin: \"))\n",
        "print()\n",
        "\n",
        "std1 = Person(Fullname, prelim, mid, fin)\n",
        "std1.show()\n",
        "print(\"\\n\")\n",
        "\n",
        "print()\n",
        "print(\"Student 2 Grade and Average: \")\n",
        "print()\n",
        "\n",
        "Fullname = \"Genrell Sy\"  #With Fix name\n",
        "prelim = float(input(\" prelim: \"))\n",
        "mid = float(input(\" mid: \"))\n",
        "fin = float(input(\" fin: \"))\n",
        "print()\n",
        "\n",
        "std2 = Person(Fullname, prelim, mid, fin)\n",
        "std2.show()\n",
        "print(\"\\n\")\n",
        "\n",
        "print()\n",
        "print(\"Student 3 Grade and Average: \")\n",
        "print()\n",
        "\n",
        "Fullname = \"Pablo D.\"  #With Fix name\n",
        "prelim = float(input(\" prelim: \"))\n",
        "mid = float(input(\" mid: \"))\n",
        "fin = float(input(\" fin: \"))\n",
        "print()\n",
        "\n",
        "std3 = Person(Fullname, prelim, mid, fin)\n",
        "std3.show()\n",
        "print(\"\\n\")"
      ],
      "metadata": {
        "colab": {
          "base_uri": "https://localhost:8080/"
        },
        "id": "CzqHzJRcQ_MB",
        "outputId": "7b15323e-21eb-48ca-d314-9be3fb9fcda2"
      },
      "execution_count": 4,
      "outputs": [
        {
          "output_type": "stream",
          "name": "stdout",
          "text": [
            "\n",
            "Student 1 Grade and Average: \n",
            "\n",
            " prelim: 95\n",
            " mid: 91\n",
            " fin: 93\n",
            "\n",
            " Full name  Viado Jhon Arvin T.\n",
            " prelim score  95.0\n",
            " midterm score  91.0\n",
            " final score  93.0\n",
            "Your Final grade is: 93.0 (Passed)\n",
            "\n",
            "\n",
            "\n",
            "Student 2 Grade and Average: \n",
            "\n",
            " prelim: 92\n",
            " mid: 93\n",
            " fin: 99\n",
            "\n",
            " Full name  Genrell Sy\n",
            " prelim score  92.0\n",
            " midterm score  93.0\n",
            " final score  99.0\n",
            "Your Final grade is: 94.0 (Passed)\n",
            "\n",
            "\n",
            "\n",
            "Student 1 Grade and Average: \n",
            "\n",
            " prelim: 70\n",
            " mid: 68\n",
            " fin: 73\n",
            "\n",
            " Full name  Pablo D.\n",
            " prelim score  70.0\n",
            " midterm score  68.0\n",
            " final score  73.0\n",
            "Your Final grade is: 70.0 (Failed)\n",
            "\n",
            "\n"
          ]
        }
      ]
    }
  ]
}