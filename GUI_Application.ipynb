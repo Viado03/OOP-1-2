{
  "nbformat": 4,
  "nbformat_minor": 0,
  "metadata": {
    "colab": {
      "name": "GUI Application.ipynb",
      "provenance": [],
      "authorship_tag": "ABX9TyPGxgMxCwDYnDzOELrSgD4R",
      "include_colab_link": true
    },
    "kernelspec": {
      "name": "python3",
      "display_name": "Python 3"
    },
    "language_info": {
      "name": "python"
    }
  },
  "cells": [
    {
      "cell_type": "markdown",
      "metadata": {
        "id": "view-in-github",
        "colab_type": "text"
      },
      "source": [
        "<a href=\"https://colab.research.google.com/github/Viado03/OOP-1-2/blob/main/GUI_Application.ipynb\" target=\"_parent\"><img src=\"https://colab.research.google.com/assets/colab-badge.svg\" alt=\"Open In Colab\"/></a>"
      ]
    },
    {
      "cell_type": "code",
      "execution_count": 17,
      "metadata": {
        "colab": {
          "base_uri": "https://localhost:8080/"
        },
        "id": "CU4s0Ik_uaHm",
        "outputId": "f5794529-af70-40f3-98e9-03cc47f0307c"
      },
      "outputs": [
        {
          "output_type": "stream",
          "name": "stdout",
          "text": [
            "The prelim grade of student 1 is 96\n",
            "The midterm grade of student 1 is 90\n",
            "The final grade of student 1 is 99\n",
            "95.0\n",
            "His gender is Male\n"
          ]
        }
      ],
      "source": [
        "#@title Students Grade in OOP\n",
        "\n",
        "Student_Name1 =\"Enter the student name\" #@param {type: \"string\"}\n",
        "prelim =  96#@param {type: \"number\"}\n",
        "midterm =  90#@param {type: \"number\"}\n",
        "final =  99#@param {type: \"number\"}\n",
        "semestral_grade = (prelim+midterm+final)/3\n",
        "print(\"The prelim grade of student 1 is\"+\"\", str(prelim))\n",
        "print(\"The midterm grade of student 1 is\"+\"\", str(midterm))\n",
        "print(\"The final grade of student 1 is\"+\"\", str(final))\n",
        "print(semestral_grade)\n",
        "\n",
        "#@title Gender\n",
        "Gender = \"Male\" #@param [\"Male\", \"Female\"]\n",
        "print(\"His gender is\"+\"\", Gender)\n",
        "\n",
        "Birthdate = '2003-22-08' #@param {type: \"date\"}\n",
        "\n"
      ]
    }
  ]
}