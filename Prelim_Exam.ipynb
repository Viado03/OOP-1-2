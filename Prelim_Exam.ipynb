{
  "nbformat": 4,
  "nbformat_minor": 0,
  "metadata": {
    "colab": {
      "name": "Prelim Exam.ipynb",
      "provenance": [],
      "authorship_tag": "ABX9TyM9QHN7nBv80I/ewYPsbwzX",
      "include_colab_link": true
    },
    "kernelspec": {
      "name": "python3",
      "display_name": "Python 3"
    },
    "language_info": {
      "name": "python"
    }
  },
  "cells": [
    {
      "cell_type": "markdown",
      "metadata": {
        "id": "view-in-github",
        "colab_type": "text"
      },
      "source": [
        "<a href=\"https://colab.research.google.com/github/Viado03/OOP-1-2/blob/main/Prelim_Exam.ipynb\" target=\"_parent\"><img src=\"https://colab.research.google.com/assets/colab-badge.svg\" alt=\"Open In Colab\"/></a>"
      ]
    },
    {
      "cell_type": "markdown",
      "source": [
        "##Problem Set 2"
      ],
      "metadata": {
        "id": "Q2YahdOHnU55"
      }
    },
    {
      "cell_type": "code",
      "execution_count": 37,
      "metadata": {
        "colab": {
          "base_uri": "https://localhost:8080/"
        },
        "id": "YIPkVbEJYSCi",
        "outputId": "c28044ed-b3bc-4bf7-dc76-347a7845f926"
      },
      "outputs": [
        {
          "output_type": "stream",
          "name": "stdout",
          "text": [
            "Name:  Jhon Arvin T. Viado\n",
            "Student No. :  202102083\n",
            "Age:  18\n",
            "School:  Cavite State University\n",
            "Course:  Bachelor of Science in Computer Engineering\n",
            "Thankyou for the information!\n"
          ]
        }
      ],
      "source": [
        "class student:\n",
        "  def __init__(self,Name,Student_No,Age,School,Course):\n",
        "    self.Name = Name\n",
        "    self.Student_No = Student_No\n",
        "    self.Age = Age\n",
        "    self.School = School\n",
        "    self.Course = Course\n",
        "\n",
        "  def Info(self):\n",
        "    print(self.Student_No, self.Age, self.School, self.Course)\n",
        "\n",
        "Myself = student(\"Jhon Arvin T. Viado\",202102083,18,\"Cavite State University\",\"Bachelor of Science in Computer Engineering\")\n",
        "print(\"Name: \", Myself.Name)\n",
        "print(\"Student No. : \", Myself.Student_No)\n",
        "print(\"Age: \", Myself.Age)\n",
        "print(\"School: \", Myself.School)\n",
        "print(\"Course: \", Myself.Course)\n",
        "\n",
        "print(\"Thankyou for the information!\")"
      ]
    }
  ]
}